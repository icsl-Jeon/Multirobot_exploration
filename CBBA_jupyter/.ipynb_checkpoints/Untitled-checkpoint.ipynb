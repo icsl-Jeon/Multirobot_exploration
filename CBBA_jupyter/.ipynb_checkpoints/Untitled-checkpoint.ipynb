{
 "cells": [
  {
   "cell_type": "code",
   "execution_count": 42,
   "metadata": {},
   "outputs": [
    {
     "data": {
      "text/plain": [
       "<function matplotlib.pyplot.show>"
      ]
     },
     "execution_count": 42,
     "metadata": {},
     "output_type": "execute_result"
    },
    {
     "data": {
      "image/png": "[encoded data removed]",
      "text/plain": [
       "<matplotlib.figure.Figure at 0x7f1ee52cfa10>"
      ]
     },
     "metadata": {},
     "output_type": "display_data"
    }
   ],
   "source": [
    "# this is implementation of CBBA algorithm \n",
    "\n",
    "# problem formulation \n",
    "\n",
    "import numpy as np\n",
    "import matplotlib.pyplot as plt\n",
    "\n",
    "\n",
    "\n",
    "Nu=3\n",
    "u1=[1,2]; u2=[2,1]; u3=[5,1];\n",
    "us=np.array([u1,u2,u3])\n",
    "Nt=4\n",
    "g1=[2,4]; g2=[3,3]; g3=[4,3]; g4=[5.3,2]\n",
    "gs=np.array([g1,g2,g3,g4])\n",
    "\n",
    "\n",
    "plt.plot(us[:,0],us[:,1],'bo')  \n",
    "plt.plot(gs[:,0],gs[:,1],'r*')  \n",
    "\n",
    "plt.axis([0 ,6, 0, 5])\n",
    "plt.show\n"
   ]
  },
  {
   "cell_type": "code",
   "execution_count": 62,
   "metadata": {},
   "outputs": [],
   "source": [
    "\n",
    "class CBBA:\n",
    "    def __init__(self,us,gs,Lt):\n",
    "        self.us=us; self.gs=gs\n",
    "        \n",
    "        self.Nu=len(us); self.Nt=len(gs) # number of unit & task \n",
    "        self.C=np.zeros((Nu,Nt)) # marginal gain of task j to unit i \n",
    "        self.Y=np.zeros((Nu,Nt)) # winning bid list \n",
    "        self.Z=np.ones((Nu,Nt))*(-1) # winner index (-1: none)\n",
    "        self.P=[] # task path of unit   (sorted)\n",
    "        self.B=[] # bundle (order x)  \n",
    "        self.reward=10 # reward for taking \"a\" task \n",
    "        self.Lt=Lt # maxmum number of task \n",
    "        self.H=np.zeros((Nu,Nt)) # winning list hij=I(cij>yij) \n",
    "        # initialization\n",
    "        for i in range(Nu):\n",
    "            self.B.append([])\n",
    "            self.P.append([])\n",
    "        \n",
    "    def cost_along_p(self,inarg):\n",
    "        # two version: \n",
    "    \n",
    "        # v1: this computes cost along path of agent i          \n",
    "        if type(inarg) is int:\n",
    "            cost=0 # total distance of travel along path \n",
    "            i=inarg\n",
    "            if len(self.P[i]): \n",
    "                cost+=np.linalg.norm(self.us[i]-self.gs[self.P[i][0]],2)\n",
    "            for step in range(len(self.B[i])-1):\n",
    "                cost+=np.linalg.norm(self.gs[self.P[i][step]]-self.gs[self.P[i][step+1]],2)\n",
    "            return cost \n",
    "        # v2: given path Pi, and position of agent i  \n",
    "        else:\n",
    "            \n",
    "            Pi=inarg[1]; i=inarg[0]\n",
    "            cost=0 # total distance of travel along path \n",
    "            if len(Pi): \n",
    "                cost+=np.linalg.norm(self.us[i]-self.gs[Pi[0]])            \n",
    "            for step in range(len(Pi)-1):\n",
    "                cost+=np.linalg.norm(self.gs[Pi[step]]-self.gs[Pi[step+1]],2)\n",
    "            return cost \n",
    "\n",
    "    \n",
    "    def where_to_put(self,i,j):\n",
    "        # where to put j th task to get the lowest cost \n",
    "        # caution : j should not be in the bundle\n",
    "            \n",
    "        min_cost=1e+5\n",
    "        min_loc=0\n",
    "        Pi=self.P[i][:] # prevent deep copy \n",
    "        for loc in range(len(Pi)+1):\n",
    "            Pi.insert(loc,j) \n",
    "            if min_cost > self.cost_along_p((i,Pi)):\n",
    "                min_loc=loc\n",
    "                min_cost=self.cost_along_p((i,Pi))\n",
    "            Pi=self.P[i][:]\n",
    "            \n",
    "        return (min_loc,min_cost)\n",
    "                \n",
    "        \n",
    "    def marginal_gain(self,i,j):\n",
    "        # compute c_ij()\n",
    "        # check whether j is in the bundel bi \n",
    "        if j in self.B[i]:\n",
    "            return 0\n",
    "        else:\n",
    "            #import ipdb; ipdb.set_trace()\n",
    "            outarg=self.where_to_put(i,j)\n",
    "            min_cost=outarg[1]\n",
    "            return ((len(self.P[i])+1)*self.reward-(min_cost)\n",
    "                    -(len(self.P[i])*self.reward-self.cost_along_p(i)))\n",
    "        \n",
    "    def phase1(self,i):\n",
    "        \n",
    "        while len(self.B[i]) < self.Lt:\n",
    "            # for all j\n",
    "            for j in range(self.Nt):\n",
    "                self.C[i,j]=self.marginal_gain(i,j)\n",
    "                if self.C[i,j]>self.Y[i,j]:\n",
    "                    self.H[i,j]=1\n",
    "            \n",
    "            if sum(self.H[i]):\n",
    "#                 import ipdb; ipdb.set_trace()\n",
    "                Ji=np.argmax(np.multiply(self.C[i],self.H[i]))\n",
    "                self.B[i].append(Ji)\n",
    "                self.P[i].insert(self.where_to_put(i,Ji)[0],Ji)\n",
    "                self.Y[i,Ji]=self.C[i,Ji]\n",
    "                self.Z[i,Ji]=i\n",
    "    \n",
    "    def phase2(self):\n",
    "        # consensus! \n",
    "        # find who is the best \n",
    "        #import ipdb; ipdb.set_trace()\n",
    "\n",
    "        Y_new=np.max(self.Y,axis=0) \n",
    "        Z_new=[np.argmax(cbba.Y[:,i]) for i in range(self.Nt)] # winning bidder (true for now )\n",
    "        # we should update Z_new, Y_new to all Z[i] Y[i]\n",
    "        for i in range(self.Nu):\n",
    "            # let's check the bundle \n",
    "            for n in range(len(self.B[i])):\n",
    "                b=self.B[i][n] # am I still winner of this task? \n",
    "                if not Z_new[b]==i: # if not\n",
    "                    # reset Y & Z after this task in bundle \n",
    "                    task2reset=self.B[i][n+1:]\n",
    "                    task2drop=self.B[i][n:]\n",
    "                    self.Y[i][task2reset]=0\n",
    "                    self.Z[i][task2reset]=-1 \n",
    "                    self.B[i][n:]=[]\n",
    "                    for dropp in task2drop:                        \n",
    "                        self.P[i][list.index(self.P[i],dropp)]=[]\n",
    "                    break\n",
    "            self.Y[i]=Y_new[:]\n",
    "            self.Z[i]=Z_new[:]\n",
    "        "
   ]
  },
  {
   "cell_type": "code",
   "execution_count": 63,
   "metadata": {
    "scrolled": true
   },
   "outputs": [
    {
     "ename": "TypeError",
     "evalue": "list indices must be integers, not list",
     "output_type": "error",
     "traceback": [
      "\u001b[0;31m---------------------------------------------------------------------------\u001b[0m",
      "\u001b[0;31mTypeError\u001b[0m                                 Traceback (most recent call last)",
      "\u001b[0;32m<ipython-input-63-f49445441836>\u001b[0m in \u001b[0;36m<module>\u001b[0;34m()\u001b[0m\n\u001b[1;32m      4\u001b[0m     \u001b[0;32mfor\u001b[0m \u001b[0mui\u001b[0m \u001b[0;32min\u001b[0m \u001b[0mrange\u001b[0m\u001b[0;34m(\u001b[0m\u001b[0mNu\u001b[0m\u001b[0;34m)\u001b[0m\u001b[0;34m:\u001b[0m\u001b[0;34m\u001b[0m\u001b[0m\n\u001b[1;32m      5\u001b[0m         \u001b[0mcbba\u001b[0m\u001b[0;34m.\u001b[0m\u001b[0mphase1\u001b[0m\u001b[0;34m(\u001b[0m\u001b[0mui\u001b[0m\u001b[0;34m)\u001b[0m\u001b[0;34m\u001b[0m\u001b[0m\n\u001b[0;32m----> 6\u001b[0;31m     \u001b[0mcbba\u001b[0m\u001b[0;34m.\u001b[0m\u001b[0mphase2\u001b[0m\u001b[0;34m(\u001b[0m\u001b[0;34m)\u001b[0m\u001b[0;34m\u001b[0m\u001b[0m\n\u001b[0m\u001b[1;32m      7\u001b[0m \u001b[0;34m\u001b[0m\u001b[0m\n",
      "\u001b[0;32m<ipython-input-62-a99c2afeccc6>\u001b[0m in \u001b[0;36mphase2\u001b[0;34m(self)\u001b[0m\n\u001b[1;32m    107\u001b[0m                     \u001b[0mself\u001b[0m\u001b[0;34m.\u001b[0m\u001b[0mZ\u001b[0m\u001b[0;34m[\u001b[0m\u001b[0mi\u001b[0m\u001b[0;34m]\u001b[0m\u001b[0;34m[\u001b[0m\u001b[0mtask2reset\u001b[0m\u001b[0;34m]\u001b[0m\u001b[0;34m=\u001b[0m\u001b[0;34m-\u001b[0m\u001b[0;36m1\u001b[0m\u001b[0;34m\u001b[0m\u001b[0m\n\u001b[1;32m    108\u001b[0m                     \u001b[0mself\u001b[0m\u001b[0;34m.\u001b[0m\u001b[0mB\u001b[0m\u001b[0;34m[\u001b[0m\u001b[0mi\u001b[0m\u001b[0;34m]\u001b[0m\u001b[0;34m[\u001b[0m\u001b[0mn\u001b[0m\u001b[0;34m:\u001b[0m\u001b[0;34m]\u001b[0m\u001b[0;34m=\u001b[0m\u001b[0;34m[\u001b[0m\u001b[0;34m]\u001b[0m\u001b[0;34m\u001b[0m\u001b[0m\n\u001b[0;32m--> 109\u001b[0;31m                     \u001b[0mself\u001b[0m\u001b[0;34m.\u001b[0m\u001b[0mP\u001b[0m\u001b[0;34m[\u001b[0m\u001b[0mi\u001b[0m\u001b[0;34m]\u001b[0m\u001b[0;34m[\u001b[0m\u001b[0mtask2drop\u001b[0m\u001b[0;34m]\u001b[0m\u001b[0;34m=\u001b[0m\u001b[0;34m[\u001b[0m\u001b[0;34m]\u001b[0m\u001b[0;34m\u001b[0m\u001b[0m\n\u001b[0m\u001b[1;32m    110\u001b[0m                     \u001b[0;32mbreak\u001b[0m\u001b[0;34m\u001b[0m\u001b[0m\n\u001b[1;32m    111\u001b[0m             \u001b[0mself\u001b[0m\u001b[0;34m.\u001b[0m\u001b[0mY\u001b[0m\u001b[0;34m[\u001b[0m\u001b[0mi\u001b[0m\u001b[0;34m]\u001b[0m\u001b[0;34m=\u001b[0m\u001b[0mY_new\u001b[0m\u001b[0;34m[\u001b[0m\u001b[0;34m:\u001b[0m\u001b[0;34m]\u001b[0m\u001b[0;34m\u001b[0m\u001b[0m\n",
      "\u001b[0;31mTypeError\u001b[0m: list indices must be integers, not list"
     ]
    }
   ],
   "source": [
    "Lt=3\n",
    "cbba=CBBA(us,gs,3)\n",
    "for iter in range(30):\n",
    "    for ui in range(Nu):\n",
    "        cbba.phase1(ui)\n",
    "    cbba.phase2()\n",
    "    \n"
   ]
  },
  {
   "cell_type": "code",
   "execution_count": 67,
   "metadata": {},
   "outputs": [
    {
     "data": {
      "text/plain": [
       "1"
      ]
     },
     "execution_count": 67,
     "metadata": {},
     "output_type": "execute_result"
    }
   ],
   "source": [
    "list.index(cbba.P[1],2)"
   ]
  },
  {
   "cell_type": "code",
   "execution_count": 68,
   "metadata": {},
   "outputs": [
    {
     "data": {
      "text/plain": [
       "[1, 2, 3]"
      ]
     },
     "execution_count": 68,
     "metadata": {},
     "output_type": "execute_result"
    }
   ],
   "source": [
    "cbba.P[1]"
   ]
  },
  {
   "cell_type": "code",
   "execution_count": 56,
   "metadata": {},
   "outputs": [
    {
     "data": {
      "text/plain": [
       "array([[ 7.76393202,  7.35987805,  7.35987805,  9.        ],\n",
       "       [ 7.76393202,  7.35987805,  7.35987805,  9.        ],\n",
       "       [ 7.76393202,  7.35987805,  7.35987805,  9.        ]])"
      ]
     },
     "execution_count": 56,
     "metadata": {},
     "output_type": "execute_result"
    }
   ],
   "source": [
    "cbba.Y"
   ]
  },
  {
   "cell_type": "code",
   "execution_count": 58,
   "metadata": {},
   "outputs": [
    {
     "data": {
      "text/plain": [
       "array([[ 0.        ,  0.        ,  6.76393202,  3.61582284],\n",
       "       [ 5.18173247,  0.        ,  0.        ,  7.35987805],\n",
       "       [ 5.94566449,  0.        ,  0.        ,  7.35987805]])"
      ]
     },
     "execution_count": 58,
     "metadata": {},
     "output_type": "execute_result"
    }
   ],
   "source": [
    "cbba.C"
   ]
  }
 ],
 "metadata": {
  "kernelspec": {
   "display_name": "Python 2",
   "language": "python",
   "name": "python2"
  },
  "language_info": {
   "codemirror_mode": {
    "name": "ipython",
    "version": 2
   },
   "file_extension": ".py",
   "mimetype": "text/x-python",
   "name": "python",
   "nbconvert_exporter": "python",
   "pygments_lexer": "ipython2",
   "version": "2.7.12"
  }
 },
 "nbformat": 4,
 "nbformat_minor": 2
}

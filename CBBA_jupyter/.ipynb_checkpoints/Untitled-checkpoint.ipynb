{
 "cells": [
  {
   "cell_type": "code",
   "execution_count": 2,
   "metadata": {},
   "outputs": [
    {
     "data": {
      "text/plain": [
       "<function matplotlib.pyplot.show>"
      ]
     },
     "execution_count": 2,
     "metadata": {},
     "output_type": "execute_result"
    }
   ],
   "source": [
    "# this is implementation of CBBA algorithm \n",
    "\n",
    "# problem formulation \n",
    "\n",
    "import numpy as np\n",
    "import matplotlib.pyplot as plt\n",
    "\n",
    "\n",
    "\n",
    "Nu=3\n",
    "u1=[1,2]; u2=[2,1]; u3=[5,1];\n",
    "us=np.array([u1,u2,u3])\n",
    "Nt=4\n",
    "g1=[2,4]; g2=[3,3]; g3=[4,3]; g4=[5.3,2]\n",
    "gs=np.array([g1,g2,g3,g4])\n",
    "\n",
    "\n",
    "\n",
    "Y=Z=np.zeros((Nu,Nt))\n",
    "B=P=[]\n",
    "for i in range(Nu):\n",
    "    B.append([])\n",
    "    P.append([])\n",
    "    \n",
    "plt.plot(us[:,0],us[:,1],'bo')  \n",
    "plt.plot(gs[:,0],gs[:,1],'r*')  \n",
    "\n",
    "plt.axis([0 ,6, 0, 5])\n",
    "plt.show\n"
   ]
  },
  {
   "cell_type": "code",
   "execution_count": 5,
   "metadata": {},
   "outputs": [],
   "source": [
    "\n",
    "class CBBA:\n",
    "    def __init__(self,us,gs,Lt):\n",
    "        self.us=us; self.gs=gs\n",
    "        \n",
    "        self.Nu=len(us); self.Nt=len(gs) # number of unit & task \n",
    "        self.Z=np.zeros((Nu,Nt)) # winning bids & winner indexself.C=self.Y=\n",
    "        self.C=np.zeros((Nu,Nt))\n",
    "        self.Y=np.zeros((Nu,Nt))\n",
    "        self.S=\n",
    "        self.Z=np.ones((Nu,Nt))*(-1) # -1: none \n",
    "        self.P=[] # bundle & path\n",
    "        self.B=[] # bundle & path \n",
    "        self.reward=10 # reward for taking a task \n",
    "        self.Lt=Lt # maxmum number of task \n",
    "        self.H=np.zeros((Nu,Nt)) # winning list \n",
    "        for i in range(Nu):\n",
    "            self.B.append([])\n",
    "            self.P.append([])\n",
    "        \n",
    "    def cost_along_p(self,inarg):\n",
    "        if type(inarg) is int:\n",
    "            cost=0 # total distance of travel along path \n",
    "            i=inarg\n",
    "            if len(self.P[i]): \n",
    "                cost+=np.linalg.norm(self.us[i]-self.gs[self.P[i][0]],2)\n",
    "            \n",
    "            for step in range(len(self.B[i])-1):\n",
    "                cost+=np.linalg.norm(self.gs[self.P[i][step]]-self.gs[self.P[i][step+1]],2)\n",
    "            return cost \n",
    "        \n",
    "        else:\n",
    "            \n",
    "            Pi=inarg[1]; i=inarg[0]\n",
    "            cost=0 # total distance of travel along path \n",
    "            if len(Pi): \n",
    "                cost+=np.linalg.norm(self.us[i]-self.gs[Pi[0]])            \n",
    "            for step in range(len(Pi)-1):\n",
    "                cost+=np.linalg.norm(self.gs[Pi[step]]-self.gs[Pi[step+1]],2)\n",
    "            return cost \n",
    "\n",
    "    \n",
    "    def where_to_put(self,i,j):\n",
    "        # where to put j th task to get the lowest cost \n",
    "        # caution : j should not be in the bundle\n",
    "            \n",
    "        min_cost=1e+5\n",
    "        min_loc=0\n",
    "        Pi=self.P[i][:]\n",
    "        for loc in range(len(Pi)+1):\n",
    "            Pi.insert(loc,j)\n",
    "            if min_cost > self.cost_along_p((i,Pi)):\n",
    "                min_loc=loc\n",
    "                min_cost=self.cost_along_p((i,Pi))\n",
    "            Pi=self.P[i][:]\n",
    "            \n",
    "        return (min_loc,min_cost)\n",
    "                \n",
    "        \n",
    "    def marginal_gain(self,i,j):\n",
    "        # compute c_ij()\n",
    "        # check whether j is in the bundel bi \n",
    "        if j in self.B[i]:\n",
    "            return 0\n",
    "        else:\n",
    "            #import ipdb; ipdb.set_trace()\n",
    "            outarg=self.where_to_put(i,j)\n",
    "            min_cost=outarg[1]\n",
    "            return ((len(self.P[i])+1)*self.reward-(min_cost)\n",
    "                    -(len(self.P[i])*self.reward-self.cost_along_p(i)))\n",
    "        \n",
    "    def phase1(self,i):\n",
    "        # this \n",
    "        while len(self.B[i]) < self.Lt:\n",
    "            # for all j\n",
    "            for j in range(self.Nt):\n",
    "                self.C[i,j]=self.marginal_gain(i,j)\n",
    "                if self.C[i,j]>self.Y[i,j]:\n",
    "                    self.H[i,j]=1\n",
    "            \n",
    "            if sum(self.H[i]):\n",
    "                #import ipdb; ipdb.set_trace()\n",
    "                Ji=np.argmax(np.multiply(self.C[i],self.H[i]))\n",
    "                self.B[i].append(Ji)\n",
    "                self.P[i].insert(self.where_to_put(i,Ji)[0],Ji)\n",
    "                self.Y[i,Ji]=self.C[i,Ji]\n",
    "                self.Z[i,Ji]=i\n",
    "    \n",
    "    def phase2(self,i):\n",
    "        # four cases are possible \n",
    "        \n",
    "        # 1. ith agent thought it was winner \n",
    "        # 1-1. But I am not a winner -> drop / reset the bundle & path \n",
    "        # 1-2. Still I am winner -> leave\n",
    "        \n",
    "        # 2. ith agent thought it was not winner\n",
    "        # 2-1. But I am winner -> update to .. \n",
    "        # 2-2. still I m not winner -> leave \n",
    "        \n",
    "        for j in range(self.Nt):\n",
    "            news_winner_j=np.argmax(self.Y[:,])\n",
    "        \n",
    "    "
   ]
  },
  {
   "cell_type": "code",
   "execution_count": 6,
   "metadata": {
    "scrolled": true
   },
   "outputs": [
    {
     "data": {
      "text/plain": [
       "array([ 0.        ,  7.76393202,  9.        ,  8.35987805])"
      ]
     },
     "execution_count": 6,
     "metadata": {},
     "output_type": "execute_result"
    }
   ],
   "source": [
    "cbba=CBBA(us,gs,3)\n",
    "cbba.phase1(1)\n",
    "cbba.B[1]\n",
    "cbba.P[1]\n",
    "cbba.Y[1]\n",
    "cbba.Z[1]\n"
   ]
  },
  {
   "cell_type": "code",
   "execution_count": 8,
   "metadata": {},
   "outputs": [
    {
     "data": {
      "text/plain": [
       "array([-1.,  1.,  1.,  1.])"
      ]
     },
     "execution_count": 8,
     "metadata": {},
     "output_type": "execute_result"
    }
   ],
   "source": []
  }
 ],
 "metadata": {
  "kernelspec": {
   "display_name": "Python 2",
   "language": "python",
   "name": "python2"
  },
  "language_info": {
   "codemirror_mode": {
    "name": "ipython",
    "version": 2
   },
   "file_extension": ".py",
   "mimetype": "text/x-python",
   "name": "python",
   "nbconvert_exporter": "python",
   "pygments_lexer": "ipython2",
   "version": "2.7.12"
  }
 },
 "nbformat": 4,
 "nbformat_minor": 2
}
